{
 "cells": [
  {
   "cell_type": "markdown",
   "metadata": {},
   "source": [
    "# Sorting Algorithms with Python"
   ]
  },
  {
   "cell_type": "markdown",
   "metadata": {},
   "source": [
    "Implementing Bubble Sort"
   ]
  },
  {
   "cell_type": "code",
   "execution_count": 19,
   "metadata": {},
   "outputs": [],
   "source": [
    "def bubble_sort(array: list) -> list:\n",
    "    len_of_array = len(array)\n",
    "    \n",
    "    for i in range(len_of_array):\n",
    "        has_swapped = False\n",
    "        for j in range(len_of_array - i - 1):\n",
    "            if array[j] > array[j + 1]:\n",
    "                array[j], array[j + 1] = array[j + 1], array[j]\n",
    "                has_swapped = True\n",
    "        if not has_swapped:\n",
    "            break\n",
    "    return array\n",
    "            "
   ]
  },
  {
   "cell_type": "code",
   "execution_count": 21,
   "metadata": {},
   "outputs": [
    {
     "name": "stdout",
     "output_type": "stream",
     "text": [
      "[2, 60, 1, 9, 1, 29, 100, 3]\n",
      "[1, 1, 2, 3, 9, 29, 60, 100]\n"
     ]
    }
   ],
   "source": [
    "array = [2, 60, 1, 9, 1, 29, 100, 3]\n",
    "print(array)\n",
    "sorted_array = bubble_sort(array)\n",
    "print(sorted_array)"
   ]
  },
  {
   "cell_type": "markdown",
   "metadata": {},
   "source": [
    "Implementing Quick Sort using Lumoto Algorithm"
   ]
  },
  {
   "cell_type": "code",
   "execution_count": 23,
   "metadata": {},
   "outputs": [
    {
     "data": {
      "application/javascript": "console.log(\"Hello\")\n",
      "text/plain": [
       "<IPython.core.display.Javascript object>"
      ]
     },
     "metadata": {},
     "output_type": "display_data"
    }
   ],
   "source": []
  }
 ],
 "metadata": {
  "kernelspec": {
   "display_name": "data-structures-and-algorithms",
   "language": "python",
   "name": "python3"
  },
  "language_info": {
   "codemirror_mode": {
    "name": "ipython",
    "version": 3
   },
   "file_extension": ".py",
   "mimetype": "text/x-python",
   "name": "python",
   "nbconvert_exporter": "python",
   "pygments_lexer": "ipython3",
   "version": "3.10.12"
  },
  "orig_nbformat": 4
 },
 "nbformat": 4,
 "nbformat_minor": 2
}
