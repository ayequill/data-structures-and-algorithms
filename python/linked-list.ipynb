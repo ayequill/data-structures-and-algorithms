{
 "cells": [
  {
   "cell_type": "markdown",
   "metadata": {},
   "source": [
    "Singly :inked List"
   ]
  },
  {
   "cell_type": "code",
   "execution_count": 33,
   "metadata": {},
   "outputs": [
    {
     "name": "stdout",
     "output_type": "stream",
     "text": [
      "12\n",
      "13\n"
     ]
    }
   ],
   "source": [
    "class Node:\n",
    "    def __init__(self, data):\n",
    "        self.data = data # Assign the data  \n",
    "        self.next = None # Assign the next node\n",
    "\n",
    "\n",
    "class LinkedList:\n",
    "    def __init__(self):\n",
    "        self.head = None # Assign the head\n",
    "        \n",
    "    # Methods/Operation for the list\n",
    "    \n",
    "    def insert(self, data):\n",
    "        if not isinstance(data, int):\n",
    "            raise TypeError(\"data must be an integer\")\n",
    "        \n",
    "        new_Node = Node(data)\n",
    "        \n",
    "        if self.head:\n",
    "            current = self.head\n",
    "            while(current.next):\n",
    "                current = current.next\n",
    "            current.next = new_Node\n",
    "        else:\n",
    "            self.head = new_Node\n",
    "    \n",
    "    def printLL(self):\n",
    "        current = self.head\n",
    "        \n",
    "        while(current):\n",
    "            print(current.data)\n",
    "            current = current.next\n",
    "            \n",
    "    def __str__(self):\n",
    "        current = self.head\n",
    "        str_repr = ''\n",
    "        while(current):\n",
    "            str_repr += str(current.data) + '\\n'\n",
    "            current = current.next\n",
    "        return str_repr\n",
    "    \n",
    "    def deleteNode(self, value):\n",
    "        temp = self.head\n",
    "        \n",
    "        if temp is not None:\n",
    "            if temp.data == value:\n",
    "                self.head = temp.next\n",
    "                temp = None\n",
    "        return\n",
    "    \n",
    "    \n",
    "\n",
    "li = LinkedList()\n",
    "# for i in range(10):\n",
    "#     li.insert(i ** 2)\n",
    "li.insert(12)\n",
    "li.insert(13)\n",
    "li.printLL()\n",
    "li.deleteNode(12)\n",
    "li.deleteNode(13)\n",
    "li.printLL()\n"
   ]
  },
  {
   "cell_type": "code",
   "execution_count": null,
   "metadata": {},
   "outputs": [],
   "source": []
  },
  {
   "cell_type": "code",
   "execution_count": null,
   "metadata": {},
   "outputs": [],
   "source": []
  }
 ],
 "metadata": {
  "kernelspec": {
   "display_name": "data-structures-and-algorithms",
   "language": "python",
   "name": "python3"
  },
  "language_info": {
   "codemirror_mode": {
    "name": "ipython",
    "version": 3
   },
   "file_extension": ".py",
   "mimetype": "text/x-python",
   "name": "python",
   "nbconvert_exporter": "python",
   "pygments_lexer": "ipython3",
   "version": "3.10.12"
  },
  "orig_nbformat": 4
 },
 "nbformat": 4,
 "nbformat_minor": 2
}
